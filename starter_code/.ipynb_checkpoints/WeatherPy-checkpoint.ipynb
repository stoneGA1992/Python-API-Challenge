{
 "cells": [
  {
   "cell_type": "markdown",
   "metadata": {},
   "source": [
    "# WeatherPy\n",
    "----\n",
    "\n",
    "#### Observations\n",
    "* \n",
    "-\tGenerally, the cities pulled have a high amount of humidity. A huge portion of the data was above the 60% line. There was a higher density of cities with higher humidity above the 40-degree line. You can see a similar trend when you split the cities into Northern and Southern Hemispheres. \n",
    "-\tFrom this sample, it looks like Max Temperature drops from cities in lower Latitudes to cities in higher latitudes. However, when split into Northern and Southern Hemispheres, there is a difference. In the Southern Hemisphere the observed effect is the opposite with Temperatures increasing with Higher Latitudes. \n",
    "-\tCloudiness and Windspeed were much more spread out on their scatter plots compared to the other data types. It doesn’t look like Latitude correlates as much with either of them\n",
    "."
   ]
  },
  {
   "cell_type": "code",
   "execution_count": 2,
   "metadata": {
    "scrolled": true
   },
   "outputs": [],
   "source": [
    "# Dependencies and Setup\n",
    "import matplotlib.pyplot as plt\n",
    "import pandas as pd\n",
    "import numpy as np\n",
    "import requests\n",
    "import time\n",
    "from scipy.stats import linregress\n",
    "from datetime import date\n",
    "import scipy.stats as st\n",
    "\n",
    "# Import API key\n",
    "from api_keys import weather_api_key\n",
    "\n",
    "# Incorporated citipy to determine city based on latitude and longitude\n",
    "from citipy import citipy\n",
    "\n",
    "# Output File (CSV)\n",
    "output_data_file = \"output_data/cities.csv\"\n",
    "\n",
    "# Range of latitudes and longitudes\n",
    "lat_range = (-90, 90)\n",
    "lng_range = (-180, 180)"
   ]
  },
  {
   "cell_type": "code",
   "execution_count": 3,
   "metadata": {},
   "outputs": [],
   "source": [
    "# Save config information.\n",
    "url = \"http://api.openweathermap.org/data/2.5/weather?\"\n",
    "units = \"imperial\"\n",
    "\n",
    "# Build partial query URL\n",
    "query_url = f\"{url}appid={weather_api_key}&units={units}&q=\""
   ]
  },
  {
   "cell_type": "code",
   "execution_count": 4,
   "metadata": {},
   "outputs": [
    {
     "data": {
      "text/plain": [
       "642"
      ]
     },
     "execution_count": 4,
     "metadata": {},
     "output_type": "execute_result"
    }
   ],
   "source": [
    "# List for holding lat_lngs and cities\n",
    "lat_lngs = []\n",
    "cities = []\n",
    "\n",
    "# Create a set of random lat and lng combinations\n",
    "lats = np.random.uniform(low=-90.000, high=90.000, size=1500)\n",
    "lngs = np.random.uniform(low=-180.000, high=180.000, size=1500)\n",
    "lat_lngs = zip(lats, lngs)\n",
    "\n",
    "# Identify nearest city for each lat, lng combination\n",
    "for lat_lng in lat_lngs:\n",
    "    city = citipy.nearest_city(lat_lng[0], lat_lng[1]).city_name\n",
    "    \n",
    "    # If the city is unique, then add it to a our cities list\n",
    "    if city not in cities:\n",
    "        cities.append(city)\n",
    "\n",
    "# Print the city count to confirm sufficient count\n",
    "len(cities)"
   ]
  },
  {
   "cell_type": "markdown",
   "metadata": {},
   "source": [
    "## Generate Cities List"
   ]
  },
  {
   "cell_type": "markdown",
   "metadata": {},
   "source": [
    "### Perform API Calls\n",
    "* Perform a weather check on each city using a series of successive API calls.\n",
    "* Include a print log of each city as it'sbeing processed (with the city number and city name).\n"
   ]
  },
  {
   "cell_type": "code",
   "execution_count": 5,
   "metadata": {
    "scrolled": true
   },
   "outputs": [
    {
     "name": "stdout",
     "output_type": "stream",
     "text": [
      "Beginning Data Retrieval\n",
      "------------------------\n",
      "Processing record 1 of set 0 | sao filipe\n",
      "Processing record 2 of set 0 | kapaa\n",
      "Processing record 3 of set 0 | kichera\n",
      "Processing record 4 of set 0 | port elizabeth\n",
      "Processing record 5 of set 0 | mataura\n",
      "Processing record 6 of set 0 | diu\n",
      "Processing record 7 of set 0 | east london\n",
      "Processing record 8 of set 0 | ribeira grande\n",
      "Processing record 9 of set 0 | svetlogorsk\n",
      "Processing record 10 of set 0 | rikitea\n",
      "Processing record 11 of set 0 | doctor pedro p. pena\n",
      "City not found!\n",
      "Processing record 12 of set 0 | dikson\n",
      "Processing record 13 of set 0 | hermanus\n",
      "Processing record 14 of set 0 | qaanaaq\n",
      "Processing record 15 of set 0 | bambous virieux\n",
      "Processing record 16 of set 0 | lufilufi\n",
      "Processing record 17 of set 0 | puerto ayora\n",
      "Processing record 18 of set 0 | new norfolk\n",
      "Processing record 19 of set 0 | ambulu\n",
      "Processing record 20 of set 0 | ancud\n",
      "Processing record 21 of set 0 | yellowknife\n",
      "Processing record 22 of set 0 | richards bay\n",
      "Processing record 23 of set 0 | belushya guba\n",
      "City not found!\n",
      "Processing record 24 of set 0 | grindavik\n",
      "Processing record 25 of set 0 | srednekolymsk\n",
      "Processing record 26 of set 0 | clyde river\n",
      "Processing record 27 of set 0 | gambiran\n",
      "Processing record 28 of set 0 | illoqqortoormiut\n",
      "City not found!\n",
      "Processing record 29 of set 0 | yarmouth\n",
      "Processing record 30 of set 0 | punta arenas\n",
      "Processing record 31 of set 0 | lolua\n",
      "City not found!\n",
      "Processing record 32 of set 0 | santo domingo\n",
      "Processing record 33 of set 0 | yopal\n",
      "Processing record 34 of set 0 | port blair\n",
      "Processing record 35 of set 0 | xining\n",
      "Processing record 36 of set 0 | yian\n",
      "City not found!\n",
      "Processing record 37 of set 0 | saint anthony\n",
      "Processing record 38 of set 0 | mineiros\n",
      "Processing record 39 of set 0 | busselton\n",
      "Processing record 40 of set 0 | khorinsk\n",
      "Processing record 41 of set 0 | kodiak\n",
      "Processing record 42 of set 0 | presidencia roque saenz pena\n",
      "Processing record 43 of set 0 | adre\n",
      "Processing record 44 of set 0 | albany\n",
      "Processing record 45 of set 0 | bathsheba\n",
      "Processing record 46 of set 0 | castro\n",
      "Processing record 47 of set 0 | carnarvon\n",
      "Processing record 48 of set 0 | atuona\n",
      "Processing record 49 of set 0 | lasa\n",
      "Processing record 50 of set 0 | georgetown\n",
      "Processing record 0 of set 1 | dryden\n",
      "Processing record 1 of set 1 | cherskiy\n",
      "Processing record 2 of set 1 | norman wells\n",
      "Processing record 3 of set 1 | berlevag\n",
      "Processing record 4 of set 1 | koumac\n",
      "Processing record 5 of set 1 | nanortalik\n",
      "Processing record 6 of set 1 | alice springs\n",
      "Processing record 7 of set 1 | barentsburg\n",
      "City not found!\n",
      "Processing record 8 of set 1 | ostrovnoy\n",
      "Processing record 9 of set 1 | timmins\n",
      "Processing record 10 of set 1 | jalu\n",
      "Processing record 11 of set 1 | upernavik\n",
      "Processing record 12 of set 1 | klaksvik\n",
      "Processing record 13 of set 1 | zeya\n",
      "Processing record 14 of set 1 | esperance\n",
      "Processing record 15 of set 1 | muzhi\n",
      "Processing record 16 of set 1 | pacific grove\n",
      "Processing record 17 of set 1 | kasongo-lunda\n",
      "Processing record 18 of set 1 | grand river south east\n",
      "City not found!\n",
      "Processing record 19 of set 1 | guerrero negro\n",
      "Processing record 20 of set 1 | airai\n",
      "Processing record 21 of set 1 | ushuaia\n",
      "Processing record 22 of set 1 | amderma\n",
      "City not found!\n",
      "Processing record 23 of set 1 | tumannyy\n",
      "City not found!\n",
      "Processing record 24 of set 1 | olafsvik\n",
      "Processing record 25 of set 1 | taolanaro\n",
      "City not found!\n",
      "Processing record 26 of set 1 | elko\n",
      "Processing record 27 of set 1 | lebu\n",
      "Processing record 28 of set 1 | port hardy\n",
      "Processing record 29 of set 1 | quelimane\n",
      "Processing record 30 of set 1 | antalaha\n",
      "Processing record 31 of set 1 | chaoyang\n",
      "Processing record 32 of set 1 | krasnoselkup\n",
      "Processing record 33 of set 1 | bluff\n",
      "Processing record 34 of set 1 | vaini\n",
      "Processing record 35 of set 1 | batemans bay\n",
      "Processing record 36 of set 1 | mar del plata\n",
      "Processing record 37 of set 1 | khatanga\n",
      "Processing record 38 of set 1 | salalah\n",
      "Processing record 39 of set 1 | butaritari\n",
      "Processing record 40 of set 1 | tondela\n",
      "Processing record 41 of set 1 | jiayuguan\n",
      "Processing record 42 of set 1 | kavaratti\n",
      "Processing record 43 of set 1 | mahebourg\n",
      "Processing record 44 of set 1 | senador guiomard\n",
      "Processing record 45 of set 1 | chuy\n",
      "Processing record 46 of set 1 | faanui\n",
      "Processing record 47 of set 1 | madhogarh\n",
      "Processing record 48 of set 1 | yilan\n",
      "Processing record 49 of set 1 | iranshahr\n",
      "Processing record 50 of set 1 | morondava\n",
      "Processing record 0 of set 2 | nikolskoye\n",
      "Processing record 1 of set 2 | jamestown\n",
      "Processing record 2 of set 2 | bredasdorp\n",
      "Processing record 3 of set 2 | armacao dos buzios\n",
      "City not found!\n",
      "Processing record 4 of set 2 | avarua\n",
      "Processing record 5 of set 2 | halifax\n",
      "Processing record 6 of set 2 | batagay-alyta\n",
      "Processing record 7 of set 2 | ixtapa\n",
      "Processing record 8 of set 2 | severo-kurilsk\n",
      "Processing record 9 of set 2 | tuktoyaktuk\n",
      "Processing record 10 of set 2 | skibotn\n",
      "Processing record 11 of set 2 | valle de allende\n",
      "Processing record 12 of set 2 | nazilli\n",
      "Processing record 13 of set 2 | thompson\n",
      "Processing record 14 of set 2 | marsh harbour\n",
      "Processing record 15 of set 2 | three hills\n",
      "Processing record 16 of set 2 | yerbogachen\n",
      "Processing record 17 of set 2 | burnie\n",
      "Processing record 18 of set 2 | geraldton\n",
      "Processing record 19 of set 2 | kijang\n",
      "Processing record 20 of set 2 | marmashen\n",
      "Processing record 21 of set 2 | chibuto\n",
      "Processing record 22 of set 2 | tres barras\n",
      "Processing record 23 of set 2 | bethel\n",
      "Processing record 24 of set 2 | provideniya\n",
      "Processing record 25 of set 2 | saint-augustin\n",
      "Processing record 26 of set 2 | macklin\n",
      "Processing record 27 of set 2 | barao de melgaco\n",
      "Processing record 28 of set 2 | bloomfield\n",
      "Processing record 29 of set 2 | rosarito\n",
      "Processing record 30 of set 2 | fukue\n",
      "Processing record 31 of set 2 | constitucion\n",
      "Processing record 32 of set 2 | mantua\n",
      "Processing record 33 of set 2 | dinan\n",
      "Processing record 34 of set 2 | buluang\n",
      "Processing record 35 of set 2 | aktas\n",
      "Processing record 36 of set 2 | cabo san lucas\n",
      "Processing record 37 of set 2 | mazagao\n",
      "Processing record 38 of set 2 | biak\n",
      "Processing record 39 of set 2 | margate\n",
      "Processing record 40 of set 2 | zyryanka\n",
      "Processing record 41 of set 2 | seoul\n",
      "Processing record 42 of set 2 | kawalu\n",
      "Processing record 43 of set 2 | half moon bay\n",
      "Processing record 44 of set 2 | ponta do sol\n",
      "Processing record 45 of set 2 | tasiilaq\n",
      "Processing record 46 of set 2 | orkney\n",
      "Processing record 47 of set 2 | pooler\n",
      "Processing record 48 of set 2 | les cayes\n",
      "Processing record 49 of set 2 | bengkulu\n",
      "Processing record 50 of set 2 | stoyba\n",
      "City not found!\n",
      "Processing record 0 of set 3 | san patricio\n",
      "Processing record 1 of set 3 | nizhneyansk\n",
      "City not found!\n",
      "Processing record 2 of set 3 | mount gambier\n",
      "Processing record 3 of set 3 | drovyanaya\n",
      "Processing record 4 of set 3 | port alfred\n",
      "Processing record 5 of set 3 | ahipara\n",
      "Processing record 6 of set 3 | touros\n",
      "Processing record 7 of set 3 | santa leopoldina\n",
      "Processing record 8 of set 3 | camacha\n",
      "Processing record 9 of set 3 | saldanha\n",
      "Processing record 10 of set 3 | simpang\n",
      "Processing record 11 of set 3 | mys shmidta\n",
      "City not found!\n",
      "Processing record 12 of set 3 | dabat\n",
      "Processing record 13 of set 3 | piracanjuba\n",
      "Processing record 14 of set 3 | mount vernon\n",
      "Processing record 15 of set 3 | cape town\n",
      "Processing record 16 of set 3 | kaeo\n",
      "Processing record 17 of set 3 | hithadhoo\n",
      "Processing record 18 of set 3 | marsala\n",
      "Processing record 19 of set 3 | muktagachha\n",
      "City not found!\n",
      "Processing record 20 of set 3 | inuvik\n",
      "Processing record 21 of set 3 | andarab\n",
      "City not found!\n",
      "Processing record 22 of set 3 | charters towers\n",
      "Processing record 23 of set 3 | atlantic city\n",
      "Processing record 24 of set 3 | tucuman\n",
      "Processing record 25 of set 3 | vaitupu\n",
      "City not found!\n",
      "Processing record 26 of set 3 | kruisfontein\n",
      "Processing record 27 of set 3 | barrow\n",
      "Processing record 28 of set 3 | eydhafushi\n",
      "Processing record 29 of set 3 | hovd\n",
      "Processing record 30 of set 3 | denpasar\n",
      "Processing record 31 of set 3 | katsuura\n",
      "Processing record 32 of set 3 | tura\n",
      "Processing record 33 of set 3 | sentyabrskiy\n",
      "City not found!\n",
      "Processing record 34 of set 3 | dera bugti\n",
      "Processing record 35 of set 3 | attawapiskat\n",
      "City not found!\n"
     ]
    },
    {
     "name": "stdout",
     "output_type": "stream",
     "text": [
      "Processing record 36 of set 3 | kaitangata\n",
      "Processing record 37 of set 3 | mnogovershinnyy\n",
      "Processing record 38 of set 3 | pandan\n",
      "Processing record 39 of set 3 | hobart\n",
      "Processing record 40 of set 3 | metro\n",
      "Processing record 41 of set 3 | huarmey\n",
      "Processing record 42 of set 3 | wajima\n",
      "Processing record 43 of set 3 | leningradskiy\n",
      "Processing record 44 of set 3 | fort saint james\n",
      "Processing record 45 of set 3 | muros\n",
      "Processing record 46 of set 3 | talnakh\n",
      "Processing record 47 of set 3 | sitka\n",
      "Processing record 48 of set 3 | saint-philippe\n",
      "Processing record 49 of set 3 | kavieng\n",
      "Processing record 50 of set 3 | bilibino\n",
      "Processing record 0 of set 4 | tiksi\n",
      "Processing record 1 of set 4 | kuching\n",
      "Processing record 2 of set 4 | dumka\n",
      "Processing record 3 of set 4 | hilo\n",
      "Processing record 4 of set 4 | cidreira\n",
      "Processing record 5 of set 4 | hofn\n",
      "Processing record 6 of set 4 | port augusta\n",
      "Processing record 7 of set 4 | broome\n",
      "Processing record 8 of set 4 | laguna\n",
      "Processing record 9 of set 4 | nelson bay\n",
      "Processing record 10 of set 4 | fortuna\n",
      "Processing record 11 of set 4 | longyearbyen\n",
      "Processing record 12 of set 4 | yamethin\n",
      "Processing record 13 of set 4 | ipilan\n",
      "Processing record 14 of set 4 | vaitape\n",
      "Processing record 15 of set 4 | idah\n",
      "Processing record 16 of set 4 | evanston\n",
      "Processing record 17 of set 4 | yulara\n",
      "Processing record 18 of set 4 | guanambi\n",
      "Processing record 19 of set 4 | verkhnevilyuysk\n",
      "Processing record 20 of set 4 | manyana\n",
      "Processing record 21 of set 4 | santa cruz de rosales\n",
      "City not found!\n",
      "Processing record 22 of set 4 | price\n",
      "Processing record 23 of set 4 | manggar\n",
      "Processing record 24 of set 4 | saskylakh\n",
      "Processing record 25 of set 4 | amapa\n",
      "Processing record 26 of set 4 | kagoro\n",
      "Processing record 27 of set 4 | kununurra\n",
      "Processing record 28 of set 4 | port hawkesbury\n",
      "Processing record 29 of set 4 | portobelo\n",
      "Processing record 30 of set 4 | goundi\n",
      "Processing record 31 of set 4 | emerald\n",
      "Processing record 32 of set 4 | gravina in puglia\n",
      "Processing record 33 of set 4 | lompoc\n",
      "Processing record 34 of set 4 | gat\n",
      "Processing record 35 of set 4 | aban\n",
      "Processing record 36 of set 4 | dolbeau\n",
      "City not found!\n",
      "Processing record 37 of set 4 | dunedin\n",
      "Processing record 38 of set 4 | ahuimanu\n",
      "Processing record 39 of set 4 | chute-aux-outardes\n",
      "Processing record 40 of set 4 | balabac\n",
      "Processing record 41 of set 4 | rungata\n",
      "City not found!\n",
      "Processing record 42 of set 4 | punta cardon\n",
      "Processing record 43 of set 4 | sobradinho\n",
      "Processing record 44 of set 4 | fort nelson\n",
      "Processing record 45 of set 4 | tautira\n",
      "Processing record 46 of set 4 | zhob\n",
      "Processing record 47 of set 4 | anadyr\n",
      "Processing record 48 of set 4 | bagdarin\n",
      "Processing record 49 of set 4 | camabatela\n",
      "Processing record 50 of set 4 | coihaique\n",
      "Processing record 0 of set 5 | tarudant\n",
      "City not found!\n",
      "Processing record 1 of set 5 | aguada de pasajeros\n",
      "Processing record 2 of set 5 | ivnya\n",
      "Processing record 3 of set 5 | sao sebastiao\n",
      "Processing record 4 of set 5 | camalu\n",
      "Processing record 5 of set 5 | cheney\n",
      "Processing record 6 of set 5 | puerto ayacucho\n",
      "Processing record 7 of set 5 | mlalo\n",
      "Processing record 8 of set 5 | atar\n",
      "Processing record 9 of set 5 | wanxian\n",
      "Processing record 10 of set 5 | puerto narino\n",
      "Processing record 11 of set 5 | sulangan\n",
      "Processing record 12 of set 5 | shingu\n",
      "Processing record 13 of set 5 | kimberley\n",
      "Processing record 14 of set 5 | la ronge\n",
      "Processing record 15 of set 5 | lucea\n",
      "Processing record 16 of set 5 | matara\n",
      "Processing record 17 of set 5 | kushmurun\n",
      "Processing record 18 of set 5 | atasu\n",
      "Processing record 19 of set 5 | inskoy\n",
      "Processing record 20 of set 5 | isangel\n",
      "Processing record 21 of set 5 | komsomolskiy\n",
      "Processing record 22 of set 5 | krasnyy kommunar\n",
      "Processing record 23 of set 5 | vila velha\n",
      "Processing record 24 of set 5 | rio gallegos\n",
      "Processing record 25 of set 5 | kisangani\n",
      "Processing record 26 of set 5 | karaul\n",
      "City not found!\n",
      "Processing record 27 of set 5 | makakilo city\n",
      "Processing record 28 of set 5 | hami\n",
      "Processing record 29 of set 5 | samusu\n",
      "City not found!\n",
      "Processing record 30 of set 5 | tsentralnyy\n",
      "City not found!\n",
      "Processing record 31 of set 5 | opuwo\n",
      "Processing record 32 of set 5 | aybak\n",
      "City not found!\n",
      "Processing record 33 of set 5 | stornoway\n",
      "Processing record 34 of set 5 | clovis\n",
      "Processing record 35 of set 5 | sur\n",
      "Processing record 36 of set 5 | port lincoln\n",
      "Processing record 37 of set 5 | zhezkazgan\n",
      "Processing record 38 of set 5 | grand forks\n",
      "Processing record 39 of set 5 | hasaki\n",
      "Processing record 40 of set 5 | florianopolis\n",
      "Processing record 41 of set 5 | kemalpasa\n",
      "Processing record 42 of set 5 | hamilton\n",
      "Processing record 43 of set 5 | bolungarvik\n",
      "City not found!\n",
      "Processing record 44 of set 5 | gotsu\n",
      "Processing record 45 of set 5 | kyzyl-mazhalyk\n",
      "Processing record 46 of set 5 | boulsa\n",
      "Processing record 47 of set 5 | pemangkat\n",
      "Processing record 48 of set 5 | walvis bay\n",
      "Processing record 49 of set 5 | puerto baquerizo moreno\n",
      "Processing record 50 of set 5 | petropavlovsk-kamchatskiy\n",
      "Processing record 0 of set 6 | palmer\n",
      "Processing record 1 of set 6 | kutum\n",
      "Processing record 2 of set 6 | tuatapere\n",
      "Processing record 3 of set 6 | surok\n",
      "Processing record 4 of set 6 | pisco\n",
      "Processing record 5 of set 6 | san quintin\n",
      "Processing record 6 of set 6 | havre-saint-pierre\n",
      "Processing record 7 of set 6 | itarema\n",
      "Processing record 8 of set 6 | lagoa\n",
      "Processing record 9 of set 6 | paraiso\n",
      "Processing record 10 of set 6 | kearney\n",
      "Processing record 11 of set 6 | kuche\n",
      "City not found!\n",
      "Processing record 12 of set 6 | lavrentiya\n",
      "Processing record 13 of set 6 | andenes\n",
      "Processing record 14 of set 6 | arraial do cabo\n",
      "Processing record 15 of set 6 | melfort\n",
      "Processing record 16 of set 6 | qarqin\n",
      "Processing record 17 of set 6 | saint george\n",
      "Processing record 18 of set 6 | oruro\n",
      "Processing record 19 of set 6 | marawi\n",
      "Processing record 20 of set 6 | quatre cocos\n",
      "Processing record 21 of set 6 | porbandar\n",
      "Processing record 22 of set 6 | beringovskiy\n",
      "Processing record 23 of set 6 | mokolo\n",
      "Processing record 24 of set 6 | andros town\n",
      "Processing record 25 of set 6 | temaraia\n",
      "City not found!\n",
      "Processing record 26 of set 6 | rocha\n",
      "Processing record 27 of set 6 | taoudenni\n",
      "Processing record 28 of set 6 | torbay\n",
      "Processing record 29 of set 6 | santiago\n",
      "Processing record 30 of set 6 | kiruna\n",
      "Processing record 31 of set 6 | port keats\n",
      "Processing record 32 of set 6 | yar-sale\n",
      "Processing record 33 of set 6 | derzhavinsk\n",
      "Processing record 34 of set 6 | nome\n",
      "Processing record 35 of set 6 | iqaluit\n",
      "Processing record 36 of set 6 | zhifang\n",
      "Processing record 37 of set 6 | mareeba\n",
      "Processing record 38 of set 6 | victoria\n",
      "Processing record 39 of set 6 | waingapu\n",
      "Processing record 40 of set 6 | huilong\n",
      "Processing record 41 of set 6 | tirano\n",
      "Processing record 42 of set 6 | haines junction\n",
      "Processing record 43 of set 6 | bereda\n",
      "Processing record 44 of set 6 | batagay\n",
      "Processing record 45 of set 6 | naryan-mar\n",
      "Processing record 46 of set 6 | kinshasa\n",
      "Processing record 47 of set 6 | methven\n",
      "Processing record 48 of set 6 | chokurdakh\n",
      "Processing record 49 of set 6 | santona\n",
      "Processing record 50 of set 6 | ulladulla\n",
      "Processing record 0 of set 7 | galesong\n",
      "Processing record 1 of set 7 | matay\n",
      "Processing record 2 of set 7 | perehonivka\n",
      "Processing record 3 of set 7 | tecpan\n",
      "Processing record 4 of set 7 | cap malheureux\n",
      "Processing record 5 of set 7 | kaka\n",
      "Processing record 6 of set 7 | faya\n",
      "Processing record 7 of set 7 | mana\n",
      "Processing record 8 of set 7 | rorvik\n",
      "Processing record 9 of set 7 | eldikan\n",
      "City not found!\n",
      "Processing record 10 of set 7 | gurupi\n",
      "Processing record 11 of set 7 | hvide sande\n",
      "Processing record 12 of set 7 | grand gaube\n",
      "Processing record 13 of set 7 | lebedyn\n",
      "Processing record 14 of set 7 | praya\n",
      "Processing record 15 of set 7 | coahuayana\n",
      "Processing record 16 of set 7 | tingi\n",
      "Processing record 17 of set 7 | santa maria\n",
      "Processing record 18 of set 7 | montlucon\n",
      "Processing record 19 of set 7 | louisbourg\n",
      "City not found!\n",
      "Processing record 20 of set 7 | beloha\n",
      "Processing record 21 of set 7 | antofagasta\n",
      "Processing record 22 of set 7 | severobaykalsk\n",
      "Processing record 23 of set 7 | buraydah\n",
      "Processing record 24 of set 7 | osorno\n",
      "Processing record 25 of set 7 | hong gai\n"
     ]
    },
    {
     "name": "stdout",
     "output_type": "stream",
     "text": [
      "Processing record 26 of set 7 | muravlenko\n",
      "Processing record 27 of set 7 | debre birhan\n",
      "Processing record 28 of set 7 | sao felix do xingu\n",
      "Processing record 29 of set 7 | tarko-sale\n",
      "Processing record 30 of set 7 | maniitsoq\n",
      "Processing record 31 of set 7 | zaysan\n",
      "Processing record 32 of set 7 | caravelas\n",
      "Processing record 33 of set 7 | kirovohrad\n",
      "Processing record 34 of set 7 | simao\n",
      "Processing record 35 of set 7 | dzhusaly\n",
      "City not found!\n",
      "Processing record 36 of set 7 | viedma\n",
      "Processing record 37 of set 7 | grand centre\n",
      "City not found!\n",
      "Processing record 38 of set 7 | boueni\n",
      "Processing record 39 of set 7 | bujaru\n",
      "Processing record 40 of set 7 | montes claros\n",
      "Processing record 41 of set 7 | sibu\n",
      "Processing record 42 of set 7 | samalaeulu\n",
      "City not found!\n",
      "Processing record 43 of set 7 | haibowan\n",
      "City not found!\n",
      "Processing record 44 of set 7 | okhotsk\n",
      "Processing record 45 of set 7 | tsihombe\n",
      "City not found!\n",
      "Processing record 46 of set 7 | paranhos\n",
      "Processing record 47 of set 7 | vilhena\n",
      "Processing record 48 of set 7 | tiffin\n",
      "Processing record 49 of set 7 | montepuez\n",
      "Processing record 50 of set 7 | sorong\n",
      "Processing record 0 of set 8 | hispania\n",
      "Processing record 1 of set 8 | portadown\n",
      "Processing record 2 of set 8 | san cristobal\n",
      "Processing record 3 of set 8 | cartagena del chaira\n",
      "Processing record 4 of set 8 | wana\n",
      "Processing record 5 of set 8 | pevek\n",
      "Processing record 6 of set 8 | golpayegan\n",
      "Processing record 7 of set 8 | deputatskiy\n",
      "Processing record 8 of set 8 | port hedland\n",
      "Processing record 9 of set 8 | tiznit\n",
      "Processing record 10 of set 8 | mount isa\n",
      "Processing record 11 of set 8 | ishoj\n",
      "Processing record 12 of set 8 | kieta\n",
      "Processing record 13 of set 8 | puerto madryn\n",
      "Processing record 14 of set 8 | preobrazheniye\n",
      "Processing record 15 of set 8 | launceston\n",
      "Processing record 16 of set 8 | north bend\n",
      "Processing record 17 of set 8 | san felipe\n",
      "Processing record 18 of set 8 | mayo\n",
      "Processing record 19 of set 8 | ilhabela\n",
      "Processing record 20 of set 8 | sorland\n",
      "Processing record 21 of set 8 | ciras\n",
      "City not found!\n",
      "Processing record 22 of set 8 | ruatoria\n",
      "City not found!\n",
      "Processing record 23 of set 8 | pocatello\n",
      "Processing record 24 of set 8 | namatanai\n",
      "Processing record 25 of set 8 | puerto rondon\n",
      "Processing record 26 of set 8 | kapoeta\n",
      "Processing record 27 of set 8 | leshukonskoye\n",
      "Processing record 28 of set 8 | katesh\n",
      "Processing record 29 of set 8 | genhe\n",
      "Processing record 30 of set 8 | neiafu\n",
      "Processing record 31 of set 8 | doha\n",
      "Processing record 32 of set 8 | yantal\n",
      "Processing record 33 of set 8 | fredericton\n",
      "Processing record 34 of set 8 | belmonte\n",
      "Processing record 35 of set 8 | palana\n",
      "Processing record 36 of set 8 | portland\n",
      "Processing record 37 of set 8 | amahai\n",
      "Processing record 38 of set 8 | kahului\n",
      "Processing record 39 of set 8 | ksenyevka\n",
      "City not found!\n",
      "Processing record 40 of set 8 | guicheng\n",
      "City not found!\n",
      "Processing record 41 of set 8 | guadalajara\n",
      "Processing record 42 of set 8 | mama\n",
      "Processing record 43 of set 8 | filingue\n",
      "Processing record 44 of set 8 | najran\n",
      "Processing record 45 of set 8 | sao joao da barra\n",
      "Processing record 46 of set 8 | hihifo\n",
      "City not found!\n",
      "Processing record 47 of set 8 | qui nhon\n",
      "Processing record 48 of set 8 | abong mbang\n",
      "Processing record 49 of set 8 | george town\n",
      "Processing record 50 of set 8 | vardo\n",
      "Processing record 0 of set 9 | yomitan\n",
      "City not found!\n",
      "Processing record 1 of set 9 | west bay\n",
      "Processing record 2 of set 9 | novoagansk\n",
      "Processing record 3 of set 9 | codrington\n",
      "Processing record 4 of set 9 | ca mau\n",
      "Processing record 5 of set 9 | vrangel\n",
      "Processing record 6 of set 9 | omboue\n",
      "Processing record 7 of set 9 | te anau\n",
      "Processing record 8 of set 9 | brooks\n",
      "Processing record 9 of set 9 | wahran\n",
      "City not found!\n",
      "Processing record 10 of set 9 | canto do buriti\n",
      "Processing record 11 of set 9 | toamasina\n",
      "Processing record 12 of set 9 | bandar-e lengeh\n",
      "Processing record 13 of set 9 | carutapera\n",
      "Processing record 14 of set 9 | lata\n",
      "Processing record 15 of set 9 | waipawa\n",
      "Processing record 16 of set 9 | lerwick\n",
      "Processing record 17 of set 9 | sola\n",
      "Processing record 18 of set 9 | corpus christi\n",
      "Processing record 19 of set 9 | zhanaozen\n",
      "Processing record 20 of set 9 | kibala\n",
      "Processing record 21 of set 9 | ada\n",
      "Processing record 22 of set 9 | yakeshi\n",
      "Processing record 23 of set 9 | ijaki\n",
      "City not found!\n",
      "Processing record 24 of set 9 | talcahuano\n",
      "Processing record 25 of set 9 | karasburg\n",
      "Processing record 26 of set 9 | owando\n",
      "Processing record 27 of set 9 | maridi\n",
      "Processing record 28 of set 9 | cockburn town\n",
      "Processing record 29 of set 9 | dong xoai\n",
      "Processing record 30 of set 9 | sankt florian\n",
      "Processing record 31 of set 9 | mbinga\n",
      "Processing record 32 of set 9 | kytmanovo\n",
      "Processing record 33 of set 9 | banepa\n",
      "Processing record 34 of set 9 | waddan\n",
      "Processing record 35 of set 9 | dejen\n",
      "Processing record 36 of set 9 | phrae\n",
      "Processing record 37 of set 9 | portree\n",
      "Processing record 38 of set 9 | manicore\n",
      "Processing record 39 of set 9 | kamenskoye\n",
      "City not found!\n",
      "Processing record 40 of set 9 | fort morgan\n",
      "Processing record 41 of set 9 | kalmar\n",
      "Processing record 42 of set 9 | turukhansk\n",
      "Processing record 43 of set 9 | salinopolis\n",
      "Processing record 44 of set 9 | san jose\n",
      "Processing record 45 of set 9 | heihe\n",
      "Processing record 46 of set 9 | bezhetsk\n",
      "Processing record 47 of set 9 | newport\n",
      "Processing record 48 of set 9 | kyabe\n",
      "Processing record 49 of set 9 | marzuq\n",
      "Processing record 50 of set 9 | honningsvag\n",
      "Processing record 0 of set 10 | port moresby\n",
      "Processing record 1 of set 10 | twin falls\n",
      "Processing record 2 of set 10 | jumla\n",
      "Processing record 3 of set 10 | gizo\n",
      "Processing record 4 of set 10 | wodonga\n",
      "Processing record 5 of set 10 | carlos chagas\n",
      "Processing record 6 of set 10 | nesbyen\n",
      "Processing record 7 of set 10 | chapais\n",
      "Processing record 8 of set 10 | bairiki\n",
      "Processing record 9 of set 10 | coracao de jesus\n",
      "Processing record 10 of set 10 | chodziez\n",
      "Processing record 11 of set 10 | altay\n",
      "Processing record 12 of set 10 | prado\n",
      "Processing record 13 of set 10 | fairbanks\n",
      "Processing record 14 of set 10 | muisne\n",
      "Processing record 15 of set 10 | mangrol\n",
      "Processing record 16 of set 10 | conceicao do castelo\n",
      "Processing record 17 of set 10 | discovery bay\n",
      "Processing record 18 of set 10 | burica\n",
      "City not found!\n",
      "Processing record 19 of set 10 | namibe\n",
      "Processing record 20 of set 10 | babanusah\n",
      "City not found!\n",
      "Processing record 21 of set 10 | baykit\n",
      "Processing record 22 of set 10 | jinxiang\n",
      "Processing record 23 of set 10 | griffith\n",
      "Processing record 24 of set 10 | inhambane\n",
      "Processing record 25 of set 10 | natal\n",
      "Processing record 26 of set 10 | juba\n",
      "Processing record 27 of set 10 | obigarm\n",
      "Processing record 28 of set 10 | cordoba\n",
      "Processing record 29 of set 10 | medea\n",
      "Processing record 30 of set 10 | ruhengeri\n",
      "Processing record 31 of set 10 | gornopravdinsk\n",
      "Processing record 32 of set 10 | lafiagi\n",
      "Processing record 33 of set 10 | khatassy\n",
      "Processing record 34 of set 10 | merritt\n",
      "Processing record 35 of set 10 | avera\n",
      "Processing record 36 of set 10 | novikovo\n",
      "Processing record 37 of set 10 | kultayevo\n",
      "Processing record 38 of set 10 | bacolod\n",
      "Processing record 39 of set 10 | panorama\n",
      "Processing record 40 of set 10 | kyshtovka\n",
      "Processing record 41 of set 10 | padang\n",
      "Processing record 42 of set 10 | zonguldak\n",
      "Processing record 43 of set 10 | jilib\n",
      "Processing record 44 of set 10 | zhanatas\n",
      "City not found!\n",
      "Processing record 45 of set 10 | alofi\n",
      "Processing record 46 of set 10 | aswan\n",
      "Processing record 47 of set 10 | northam\n",
      "Processing record 48 of set 10 | pontianak\n",
      "Processing record 49 of set 10 | nuuk\n",
      "Processing record 50 of set 10 | chillicothe\n",
      "Processing record 0 of set 11 | yeppoon\n",
      "Processing record 1 of set 11 | mayskiy\n",
      "Processing record 2 of set 11 | solnechnyy\n",
      "Processing record 3 of set 11 | narsaq\n",
      "Processing record 4 of set 11 | valparaiso\n",
      "Processing record 5 of set 11 | nahrin\n",
      "Processing record 6 of set 11 | vanimo\n",
      "Processing record 7 of set 11 | los llanos de aridane\n",
      "Processing record 8 of set 11 | nemours\n",
      "Processing record 9 of set 11 | myitkyina\n",
      "Processing record 10 of set 11 | tidore\n",
      "City not found!\n",
      "Processing record 11 of set 11 | vila franca do campo\n",
      "Processing record 12 of set 11 | kulhudhuffushi\n"
     ]
    },
    {
     "name": "stdout",
     "output_type": "stream",
     "text": [
      "Processing record 13 of set 11 | ilulissat\n",
      "Processing record 14 of set 11 | sompeta\n",
      "Processing record 15 of set 11 | kilindoni\n",
      "Processing record 16 of set 11 | eureka\n",
      "Processing record 17 of set 11 | coaticook\n",
      "Processing record 18 of set 11 | fevralsk\n",
      "City not found!\n",
      "Processing record 19 of set 11 | bambari\n",
      "Processing record 20 of set 11 | mackenzie\n",
      "Processing record 21 of set 11 | kankakee\n",
      "Processing record 22 of set 11 | pangody\n",
      "Processing record 23 of set 11 | priargunsk\n",
      "Processing record 24 of set 11 | dingle\n",
      "Processing record 25 of set 11 | sept-iles\n",
      "Processing record 26 of set 11 | nguiu\n",
      "City not found!\n",
      "Processing record 27 of set 11 | bima\n",
      "Processing record 28 of set 11 | flin flon\n",
      "Processing record 29 of set 11 | san roque\n",
      "Processing record 30 of set 11 | ust-nera\n",
      "Processing record 31 of set 11 | sokoni\n",
      "Processing record 32 of set 11 | rawannawi\n",
      "City not found!\n",
      "Processing record 33 of set 11 | kuji\n",
      "Processing record 34 of set 11 | mahajanga\n",
      "Processing record 35 of set 11 | malakal\n",
      "Processing record 36 of set 11 | tezu\n",
      "Processing record 37 of set 11 | ferme-neuve\n",
      "Processing record 38 of set 11 | malinovoye ozero\n",
      "Processing record 39 of set 11 | odweyne\n",
      "Processing record 40 of set 11 | praia\n",
      "Processing record 41 of set 11 | yenagoa\n",
      "Processing record 42 of set 11 | shar\n",
      "Processing record 43 of set 11 | moerai\n",
      "Processing record 44 of set 11 | aquiraz\n",
      "Processing record 45 of set 11 | gamboma\n",
      "Processing record 46 of set 11 | roma\n",
      "Processing record 47 of set 11 | henzada\n",
      "City not found!\n",
      "Processing record 48 of set 11 | shu\n",
      "Processing record 49 of set 11 | luderitz\n",
      "Processing record 50 of set 11 | rexburg\n",
      "Processing record 0 of set 12 | hualmay\n",
      "Processing record 1 of set 12 | orthez\n",
      "Processing record 2 of set 12 | ransang\n",
      "Processing record 3 of set 12 | karamea\n",
      "City not found!\n",
      "Processing record 4 of set 12 | brae\n",
      "Processing record 5 of set 12 | college\n",
      "Processing record 6 of set 12 | noumea\n",
      "Processing record 7 of set 12 | miles city\n",
      "Processing record 8 of set 12 | moses lake\n",
      "Processing record 9 of set 12 | dalbandin\n",
      "Processing record 10 of set 12 | gympie\n",
      "Processing record 11 of set 12 | saurimo\n",
      "Processing record 12 of set 12 | tahta\n",
      "Processing record 13 of set 12 | lander\n",
      "Processing record 14 of set 12 | cocobeach\n",
      "Processing record 15 of set 12 | boyolangu\n",
      "Processing record 16 of set 12 | pimentel\n",
      "Processing record 17 of set 12 | ubinskoye\n",
      "Processing record 18 of set 12 | moose factory\n",
      "Processing record 19 of set 12 | mugur-aksy\n",
      "Processing record 20 of set 12 | homer\n",
      "Processing record 21 of set 12 | jalingo\n",
      "Processing record 22 of set 12 | souillac\n",
      "Processing record 23 of set 12 | aklavik\n",
      "Processing record 24 of set 12 | oudtshoorn\n",
      "Processing record 25 of set 12 | pangnirtung\n",
      "Processing record 26 of set 12 | kluang\n",
      "Processing record 27 of set 12 | cedar falls\n",
      "Processing record 28 of set 12 | raudeberg\n",
      "Processing record 29 of set 12 | la tuque\n",
      "Processing record 30 of set 12 | afua\n",
      "-------------------------\n",
      "Data Retrieval Complete\n",
      "-------------------------\n"
     ]
    }
   ],
   "source": [
    "\n",
    "new_cities = []\n",
    "cloudiness = []\n",
    "country = []\n",
    "date = []\n",
    "humidity = []\n",
    "max_temp = []\n",
    "lat = []\n",
    "lng = []\n",
    "wind_speed =[]\n",
    "\n",
    "\n",
    "record_counter = 0\n",
    "set_counter = 0\n",
    "\n",
    "print('Beginning Data Retrieval')\n",
    "print('------------------------')\n",
    "\n",
    "for city in cities:\n",
    "    weather_query_url = query_url + city\n",
    "    # Get weather data\n",
    "    response = requests.get(weather_query_url).json()\n",
    "    if record_counter < 50:\n",
    "        record_counter += 1\n",
    "    else:\n",
    "        set_counter += 1\n",
    "        record_counter = 0\n",
    "\n",
    "    print('Processing record {} of set {} | {}'.format(record_counter, set_counter, city))\n",
    "  \n",
    "    try:\n",
    "        cloudiness.append(response['clouds']['all'])\n",
    "        country.append(response['sys']['country'])\n",
    "        date.append(response['dt'])\n",
    "        humidity.append(response['main']['humidity'])\n",
    "        max_temp.append(response['main']['temp_max'])\n",
    "        lat.append(response['coord']['lat'])\n",
    "        lng.append(response['coord']['lon'])\n",
    "        wind_speed.append(response['wind']['speed'])\n",
    "        new_cities.append(city)\n",
    "    except:\n",
    "        print(\"City not found!\")\n",
    "        pass\n",
    "    \n",
    "    time.sleep(0.5)\n",
    "    \n",
    "print('-------------------------')\n",
    "print('Data Retrieval Complete')\n",
    "print('-------------------------')"
   ]
  },
  {
   "cell_type": "markdown",
   "metadata": {},
   "source": [
    "### Convert Raw Data to DataFrame\n",
    "* Export the city data into a .csv.\n",
    "* Display the DataFrame"
   ]
  },
  {
   "cell_type": "code",
   "execution_count": 6,
   "metadata": {},
   "outputs": [
    {
     "data": {
      "text/html": [
       "<div>\n",
       "<style scoped>\n",
       "    .dataframe tbody tr th:only-of-type {\n",
       "        vertical-align: middle;\n",
       "    }\n",
       "\n",
       "    .dataframe tbody tr th {\n",
       "        vertical-align: top;\n",
       "    }\n",
       "\n",
       "    .dataframe thead th {\n",
       "        text-align: right;\n",
       "    }\n",
       "</style>\n",
       "<table border=\"1\" class=\"dataframe\">\n",
       "  <thead>\n",
       "    <tr style=\"text-align: right;\">\n",
       "      <th></th>\n",
       "      <th>City</th>\n",
       "      <th>Cloudiness</th>\n",
       "      <th>Country</th>\n",
       "      <th>Date</th>\n",
       "      <th>Humidity</th>\n",
       "      <th>Lat</th>\n",
       "      <th>Lng</th>\n",
       "      <th>Max Temp</th>\n",
       "      <th>Wind Speed</th>\n",
       "    </tr>\n",
       "  </thead>\n",
       "  <tbody>\n",
       "    <tr>\n",
       "      <th>0</th>\n",
       "      <td>sao filipe</td>\n",
       "      <td>11</td>\n",
       "      <td>CV</td>\n",
       "      <td>1580270242</td>\n",
       "      <td>67</td>\n",
       "      <td>14.90</td>\n",
       "      <td>-24.50</td>\n",
       "      <td>71.13</td>\n",
       "      <td>18.39</td>\n",
       "    </tr>\n",
       "    <tr>\n",
       "      <th>1</th>\n",
       "      <td>kapaa</td>\n",
       "      <td>1</td>\n",
       "      <td>US</td>\n",
       "      <td>1580270164</td>\n",
       "      <td>61</td>\n",
       "      <td>22.08</td>\n",
       "      <td>-159.32</td>\n",
       "      <td>78.80</td>\n",
       "      <td>3.36</td>\n",
       "    </tr>\n",
       "    <tr>\n",
       "      <th>2</th>\n",
       "      <td>kichera</td>\n",
       "      <td>100</td>\n",
       "      <td>RU</td>\n",
       "      <td>1580270520</td>\n",
       "      <td>67</td>\n",
       "      <td>55.94</td>\n",
       "      <td>110.10</td>\n",
       "      <td>10.02</td>\n",
       "      <td>3.60</td>\n",
       "    </tr>\n",
       "    <tr>\n",
       "      <th>3</th>\n",
       "      <td>port elizabeth</td>\n",
       "      <td>75</td>\n",
       "      <td>ZA</td>\n",
       "      <td>1580270130</td>\n",
       "      <td>77</td>\n",
       "      <td>-33.92</td>\n",
       "      <td>25.57</td>\n",
       "      <td>68.00</td>\n",
       "      <td>13.87</td>\n",
       "    </tr>\n",
       "    <tr>\n",
       "      <th>4</th>\n",
       "      <td>mataura</td>\n",
       "      <td>96</td>\n",
       "      <td>NZ</td>\n",
       "      <td>1580270073</td>\n",
       "      <td>88</td>\n",
       "      <td>-46.19</td>\n",
       "      <td>168.86</td>\n",
       "      <td>54.00</td>\n",
       "      <td>14.00</td>\n",
       "    </tr>\n",
       "  </tbody>\n",
       "</table>\n",
       "</div>"
      ],
      "text/plain": [
       "             City  Cloudiness Country        Date  Humidity    Lat     Lng  \\\n",
       "0      sao filipe          11      CV  1580270242        67  14.90  -24.50   \n",
       "1           kapaa           1      US  1580270164        61  22.08 -159.32   \n",
       "2         kichera         100      RU  1580270520        67  55.94  110.10   \n",
       "3  port elizabeth          75      ZA  1580270130        77 -33.92   25.57   \n",
       "4         mataura          96      NZ  1580270073        88 -46.19  168.86   \n",
       "\n",
       "   Max Temp  Wind Speed  \n",
       "0     71.13       18.39  \n",
       "1     78.80        3.36  \n",
       "2     10.02        3.60  \n",
       "3     68.00       13.87  \n",
       "4     54.00       14.00  "
      ]
     },
     "execution_count": 6,
     "metadata": {},
     "output_type": "execute_result"
    }
   ],
   "source": [
    "weather_df= pd.DataFrame({\"City\": new_cities,\"Cloudiness\": cloudiness, \"Country\": country, \"Date\": date, \"Humidity\":humidity, \"Lat\":lat, \"Lng\":lng, \"Max Temp\": max_temp, \"Wind Speed\":wind_speed})\n",
    "\n",
    "weather_df.head()\n"
   ]
  },
  {
   "cell_type": "code",
   "execution_count": 7,
   "metadata": {},
   "outputs": [],
   "source": [
    "# Export the city weather data into a csv file\n",
    "weather_df.to_csv('../output_data/cities.csv', index= False)"
   ]
  },
  {
   "cell_type": "markdown",
   "metadata": {},
   "source": [
    "### Plotting the Data\n",
    "* Use proper labeling of the plots using plot titles (including date of analysis) and axes labels.\n",
    "* Save the plotted figures as .pngs."
   ]
  },
  {
   "cell_type": "markdown",
   "metadata": {},
   "source": [
    "#### Latitude vs. Temperature Plot"
   ]
  },
  {
   "cell_type": "code",
   "execution_count": 8,
   "metadata": {
    "scrolled": true
   },
   "outputs": [
    {
     "data": {
      "image/png": "[encoded data removed]",
      "text/plain": [
       "<Figure size 432x288 with 1 Axes>"
      ]
     },
     "metadata": {
      "needs_background": "light"
     },
     "output_type": "display_data"
    }
   ],
   "source": [
    "#Convert Date column to actual date with Datetime\n",
    "weather_df[\"Date\"] = pd.to_datetime(weather_df[\"Date\"], unit=\"s\")\n",
    "\n",
    "# Latitude Vs Temperature Plot\n",
    "\n",
    "weather_df.plot(kind='scatter', x='Lat', y='Max Temp', c='Red')\n",
    "plt.title('City Latitude Vs Max Temperature')\n",
    "plt.xlabel('Latitude')\n",
    "plt.ylabel('Max temperature (F)')\n",
    "plt.grid()\n",
    "\n",
    "plt.savefig('../output_data/Latitude vs ')\n"
   ]
  },
  {
   "cell_type": "markdown",
   "metadata": {},
   "source": [
    "#### Latitude vs. Humidity Plot"
   ]
  },
  {
   "cell_type": "code",
   "execution_count": 17,
   "metadata": {},
   "outputs": [
    {
     "data": {
      "image/png": "[encoded data removed]",
      "text/plain": [
       "<Figure size 432x288 with 1 Axes>"
      ]
     },
     "metadata": {
      "needs_background": "light"
     },
     "output_type": "display_data"
    }
   ],
   "source": [
    "# Latitude Vs Humidity Plot\n",
    "\n",
    "weather_df.plot(kind='scatter', x='Lat', y='Humidity', c='Red')\n",
    "plt.title('City Latitude Vs Humidity')\n",
    "plt.xlabel('Latitude')\n",
    "plt.ylabel('Humidity(%)')\n",
    "plt.grid()\n",
    "plt.savefig('../output_data/Latitude vs Humidity ')"
   ]
  },
  {
   "cell_type": "markdown",
   "metadata": {},
   "source": [
    "#### Latitude vs. Cloudiness Plot"
   ]
  },
  {
   "cell_type": "code",
   "execution_count": 18,
   "metadata": {},
   "outputs": [
    {
     "data": {
      "image/png": "[encoded data removed]",
      "text/plain": [
       "<Figure size 432x288 with 1 Axes>"
      ]
     },
     "metadata": {
      "needs_background": "light"
     },
     "output_type": "display_data"
    }
   ],
   "source": [
    "# Latitude Vs Cloudiness Plot\n",
    "\n",
    "weather_df.plot(kind='scatter', x='Lat', y='Cloudiness', c='Red')\n",
    "plt.title('City Latitude Vs Cloudiness')\n",
    "plt.xlabel('Latitude')\n",
    "plt.ylabel('Cloudiness')\n",
    "plt.grid()\n",
    "\n",
    "plt.savefig('../output_data/Latitude vs Cloudiness')"
   ]
  },
  {
   "cell_type": "markdown",
   "metadata": {},
   "source": [
    "#### Latitude vs. Wind Speed Plot"
   ]
  },
  {
   "cell_type": "code",
   "execution_count": 19,
   "metadata": {},
   "outputs": [
    {
     "data": {
      "image/png": "[encoded data removed]",
      "text/plain": [
       "<Figure size 432x288 with 1 Axes>"
      ]
     },
     "metadata": {
      "needs_background": "light"
     },
     "output_type": "display_data"
    }
   ],
   "source": [
    "# Latitude Vs Windspeed Plot\n",
    "\n",
    "weather_df.plot(kind='scatter', x='Lat', y='Wind Speed', c='Red')\n",
    "plt.title('City Latitude Vs Wind Speed')\n",
    "plt.xlabel('Latitude')\n",
    "plt.ylabel('Wind Speed (mph)')\n",
    "plt.grid()\n",
    "\n",
    "plt.savefig('../output_data/Latitude vs Wind Speed')"
   ]
  },
  {
   "cell_type": "markdown",
   "metadata": {},
   "source": [
    "## Linear Regression"
   ]
  },
  {
   "cell_type": "code",
   "execution_count": 20,
   "metadata": {},
   "outputs": [],
   "source": [
    "# OPTIONAL: Create a function to create Linear Regression plots\n"
   ]
  },
  {
   "cell_type": "code",
   "execution_count": 21,
   "metadata": {
    "scrolled": true
   },
   "outputs": [
    {
     "name": "stdout",
     "output_type": "stream",
     "text": [
      "City          394\n",
      "Cloudiness    394\n",
      "Country       394\n",
      "Date          394\n",
      "Humidity      394\n",
      "Lat           394\n",
      "Lng           394\n",
      "Max Temp      394\n",
      "Wind Speed    394\n",
      "dtype: int64\n",
      "City          193\n",
      "Cloudiness    193\n",
      "Country       193\n",
      "Date          193\n",
      "Humidity      193\n",
      "Lat           193\n",
      "Lng           193\n",
      "Max Temp      193\n",
      "Wind Speed    193\n",
      "dtype: int64\n"
     ]
    }
   ],
   "source": [
    "# Create Northern and Southern Hemisphere DataFrames\n",
    "# Northern Hemisphere DataFrame\n",
    "north_hemi = weather_df[weather_df['Lat'] >= 0]\n",
    "# Southern Hemisphere DataFrame\n",
    "south_hemi = weather_df[weather_df['Lat'] < 0]\n",
    "\n",
    "print(north_hemi.count())\n",
    "print(south_hemi.count())"
   ]
  },
  {
   "cell_type": "code",
   "execution_count": 22,
   "metadata": {},
   "outputs": [
    {
     "data": {
      "text/html": [
       "<div>\n",
       "<style scoped>\n",
       "    .dataframe tbody tr th:only-of-type {\n",
       "        vertical-align: middle;\n",
       "    }\n",
       "\n",
       "    .dataframe tbody tr th {\n",
       "        vertical-align: top;\n",
       "    }\n",
       "\n",
       "    .dataframe thead th {\n",
       "        text-align: right;\n",
       "    }\n",
       "</style>\n",
       "<table border=\"1\" class=\"dataframe\">\n",
       "  <thead>\n",
       "    <tr style=\"text-align: right;\">\n",
       "      <th></th>\n",
       "      <th>City</th>\n",
       "      <th>Cloudiness</th>\n",
       "      <th>Country</th>\n",
       "      <th>Date</th>\n",
       "      <th>Humidity</th>\n",
       "      <th>Lat</th>\n",
       "      <th>Lng</th>\n",
       "      <th>Max Temp</th>\n",
       "      <th>Wind Speed</th>\n",
       "    </tr>\n",
       "  </thead>\n",
       "  <tbody>\n",
       "    <tr>\n",
       "      <th>0</th>\n",
       "      <td>sao filipe</td>\n",
       "      <td>11</td>\n",
       "      <td>CV</td>\n",
       "      <td>2020-01-29 03:57:22</td>\n",
       "      <td>67</td>\n",
       "      <td>14.90</td>\n",
       "      <td>-24.50</td>\n",
       "      <td>71.13</td>\n",
       "      <td>18.39</td>\n",
       "    </tr>\n",
       "    <tr>\n",
       "      <th>1</th>\n",
       "      <td>kapaa</td>\n",
       "      <td>1</td>\n",
       "      <td>US</td>\n",
       "      <td>2020-01-29 03:56:04</td>\n",
       "      <td>61</td>\n",
       "      <td>22.08</td>\n",
       "      <td>-159.32</td>\n",
       "      <td>78.80</td>\n",
       "      <td>3.36</td>\n",
       "    </tr>\n",
       "    <tr>\n",
       "      <th>2</th>\n",
       "      <td>kichera</td>\n",
       "      <td>100</td>\n",
       "      <td>RU</td>\n",
       "      <td>2020-01-29 04:02:00</td>\n",
       "      <td>67</td>\n",
       "      <td>55.94</td>\n",
       "      <td>110.10</td>\n",
       "      <td>10.02</td>\n",
       "      <td>3.60</td>\n",
       "    </tr>\n",
       "    <tr>\n",
       "      <th>5</th>\n",
       "      <td>diu</td>\n",
       "      <td>0</td>\n",
       "      <td>IN</td>\n",
       "      <td>2020-01-29 04:02:02</td>\n",
       "      <td>63</td>\n",
       "      <td>20.71</td>\n",
       "      <td>70.98</td>\n",
       "      <td>65.89</td>\n",
       "      <td>10.47</td>\n",
       "    </tr>\n",
       "    <tr>\n",
       "      <th>7</th>\n",
       "      <td>ribeira grande</td>\n",
       "      <td>78</td>\n",
       "      <td>PT</td>\n",
       "      <td>2020-01-29 03:55:00</td>\n",
       "      <td>94</td>\n",
       "      <td>38.52</td>\n",
       "      <td>-28.70</td>\n",
       "      <td>60.12</td>\n",
       "      <td>19.71</td>\n",
       "    </tr>\n",
       "  </tbody>\n",
       "</table>\n",
       "</div>"
      ],
      "text/plain": [
       "             City  Cloudiness Country                Date  Humidity    Lat  \\\n",
       "0      sao filipe          11      CV 2020-01-29 03:57:22        67  14.90   \n",
       "1           kapaa           1      US 2020-01-29 03:56:04        61  22.08   \n",
       "2         kichera         100      RU 2020-01-29 04:02:00        67  55.94   \n",
       "5             diu           0      IN 2020-01-29 04:02:02        63  20.71   \n",
       "7  ribeira grande          78      PT 2020-01-29 03:55:00        94  38.52   \n",
       "\n",
       "      Lng  Max Temp  Wind Speed  \n",
       "0  -24.50     71.13       18.39  \n",
       "1 -159.32     78.80        3.36  \n",
       "2  110.10     10.02        3.60  \n",
       "5   70.98     65.89       10.47  \n",
       "7  -28.70     60.12       19.71  "
      ]
     },
     "execution_count": 22,
     "metadata": {},
     "output_type": "execute_result"
    }
   ],
   "source": [
    "#See Northern DF\n",
    "\n",
    "north_hemi.head()"
   ]
  },
  {
   "cell_type": "code",
   "execution_count": 23,
   "metadata": {},
   "outputs": [
    {
     "data": {
      "text/html": [
       "<div>\n",
       "<style scoped>\n",
       "    .dataframe tbody tr th:only-of-type {\n",
       "        vertical-align: middle;\n",
       "    }\n",
       "\n",
       "    .dataframe tbody tr th {\n",
       "        vertical-align: top;\n",
       "    }\n",
       "\n",
       "    .dataframe thead th {\n",
       "        text-align: right;\n",
       "    }\n",
       "</style>\n",
       "<table border=\"1\" class=\"dataframe\">\n",
       "  <thead>\n",
       "    <tr style=\"text-align: right;\">\n",
       "      <th></th>\n",
       "      <th>City</th>\n",
       "      <th>Cloudiness</th>\n",
       "      <th>Country</th>\n",
       "      <th>Date</th>\n",
       "      <th>Humidity</th>\n",
       "      <th>Lat</th>\n",
       "      <th>Lng</th>\n",
       "      <th>Max Temp</th>\n",
       "      <th>Wind Speed</th>\n",
       "    </tr>\n",
       "  </thead>\n",
       "  <tbody>\n",
       "    <tr>\n",
       "      <th>3</th>\n",
       "      <td>port elizabeth</td>\n",
       "      <td>75</td>\n",
       "      <td>ZA</td>\n",
       "      <td>2020-01-29 03:55:30</td>\n",
       "      <td>77</td>\n",
       "      <td>-33.92</td>\n",
       "      <td>25.57</td>\n",
       "      <td>68.00</td>\n",
       "      <td>13.87</td>\n",
       "    </tr>\n",
       "    <tr>\n",
       "      <th>4</th>\n",
       "      <td>mataura</td>\n",
       "      <td>96</td>\n",
       "      <td>NZ</td>\n",
       "      <td>2020-01-29 03:54:33</td>\n",
       "      <td>88</td>\n",
       "      <td>-46.19</td>\n",
       "      <td>168.86</td>\n",
       "      <td>54.00</td>\n",
       "      <td>14.00</td>\n",
       "    </tr>\n",
       "    <tr>\n",
       "      <th>6</th>\n",
       "      <td>east london</td>\n",
       "      <td>0</td>\n",
       "      <td>ZA</td>\n",
       "      <td>2020-01-29 03:56:53</td>\n",
       "      <td>55</td>\n",
       "      <td>-33.02</td>\n",
       "      <td>27.91</td>\n",
       "      <td>64.40</td>\n",
       "      <td>6.93</td>\n",
       "    </tr>\n",
       "    <tr>\n",
       "      <th>9</th>\n",
       "      <td>rikitea</td>\n",
       "      <td>100</td>\n",
       "      <td>PF</td>\n",
       "      <td>2020-01-29 03:54:36</td>\n",
       "      <td>78</td>\n",
       "      <td>-23.12</td>\n",
       "      <td>-134.97</td>\n",
       "      <td>79.79</td>\n",
       "      <td>6.22</td>\n",
       "    </tr>\n",
       "    <tr>\n",
       "      <th>11</th>\n",
       "      <td>hermanus</td>\n",
       "      <td>89</td>\n",
       "      <td>ZA</td>\n",
       "      <td>2020-01-29 03:57:15</td>\n",
       "      <td>97</td>\n",
       "      <td>-34.42</td>\n",
       "      <td>19.23</td>\n",
       "      <td>64.00</td>\n",
       "      <td>3.00</td>\n",
       "    </tr>\n",
       "  </tbody>\n",
       "</table>\n",
       "</div>"
      ],
      "text/plain": [
       "              City  Cloudiness Country                Date  Humidity    Lat  \\\n",
       "3   port elizabeth          75      ZA 2020-01-29 03:55:30        77 -33.92   \n",
       "4          mataura          96      NZ 2020-01-29 03:54:33        88 -46.19   \n",
       "6      east london           0      ZA 2020-01-29 03:56:53        55 -33.02   \n",
       "9          rikitea         100      PF 2020-01-29 03:54:36        78 -23.12   \n",
       "11        hermanus          89      ZA 2020-01-29 03:57:15        97 -34.42   \n",
       "\n",
       "       Lng  Max Temp  Wind Speed  \n",
       "3    25.57     68.00       13.87  \n",
       "4   168.86     54.00       14.00  \n",
       "6    27.91     64.40        6.93  \n",
       "9  -134.97     79.79        6.22  \n",
       "11   19.23     64.00        3.00  "
      ]
     },
     "execution_count": 23,
     "metadata": {},
     "output_type": "execute_result"
    }
   ],
   "source": [
    "#See Southern DF\n",
    "\n",
    "south_hemi.head()"
   ]
  },
  {
   "cell_type": "markdown",
   "metadata": {},
   "source": [
    "####  Northern Hemisphere - Max Temp vs. Latitude Linear Regression"
   ]
  },
  {
   "cell_type": "code",
   "execution_count": 24,
   "metadata": {},
   "outputs": [
    {
     "name": "stdout",
     "output_type": "stream",
     "text": [
      "The r-squared is -0.872\n"
     ]
    },
    {
     "data": {
      "image/png": "[encoded data removed]",
      "text/plain": [
       "<Figure size 432x288 with 1 Axes>"
      ]
     },
     "metadata": {
      "needs_background": "light"
     },
     "output_type": "display_data"
    },
    {
     "data": {
      "text/plain": [
       "<Figure size 432x288 with 0 Axes>"
      ]
     },
     "metadata": {},
     "output_type": "display_data"
    }
   ],
   "source": [
    "# Scatter Plot\n",
    "\n",
    "north_hemi.plot(kind='scatter', x='Lat', y='Max Temp', c='Red')\n",
    "plt.title('City Latitude Vs Max Temperteature')\n",
    "plt.xlabel('Latitude')\n",
    "plt.ylabel('Max temperature (F)')\n",
    "plt.grid()\n",
    "\n",
    "\n",
    "\n",
    "#compute the Pearson correlation coefficient between Temp and Lat\n",
    "lat = north_hemi.iloc[:, 5]\n",
    "max_temp = north_hemi.iloc[:, 7]\n",
    "\n",
    "#print(lat)\n",
    "\n",
    "#print(max_temp)\n",
    "\n",
    "correlation = st.pearsonr(lat, max_temp)\n",
    "\n",
    "print(f\"The r-squared is {round(correlation[0],4)}\")\n",
    "\n",
    "\n",
    "# Create Linear Regression\n",
    "\n",
    "x_values = north_hemi['Lat']\n",
    "y_values = north_hemi['Max Temp']\n",
    "(slope, intercept, rvalue, pvalue, stderr) = linregress(x_values, y_values)\n",
    "regress_values = x_values * slope + intercept\n",
    "line_eq = \"y = \" + str(round(slope,2)) + \"x + \" + str(round(intercept,2))\n",
    "plt.scatter(x_values,y_values)\n",
    "plt.plot(x_values,regress_values,\"r-\")\n",
    "plt.annotate(line_eq,(0,0),fontsize=15,color=\"red\")\n",
    "plt.xlabel('Latitude')\n",
    "plt.ylabel('Max temperature (F)')\n",
    "plt.title(\"City Latitude VS Max Temperature\")\n",
    "plt.show()\n",
    "\n",
    "plt.savefig('../output_data/Northern Latitude vs Max Temp')"
   ]
  },
  {
   "cell_type": "markdown",
   "metadata": {},
   "source": [
    "####  Southern Hemisphere - Max Temp vs. Latitude Linear Regression"
   ]
  },
  {
   "cell_type": "code",
   "execution_count": 25,
   "metadata": {},
   "outputs": [
    {
     "name": "stdout",
     "output_type": "stream",
     "text": [
      "The r-squared is 0.4282\n"
     ]
    },
    {
     "data": {
      "image/png": "[encoded data removed]",
      "text/plain": [
       "<Figure size 432x288 with 1 Axes>"
      ]
     },
     "metadata": {
      "needs_background": "light"
     },
     "output_type": "display_data"
    },
    {
     "data": {
      "text/plain": [
       "<Figure size 432x288 with 0 Axes>"
      ]
     },
     "metadata": {},
     "output_type": "display_data"
    }
   ],
   "source": [
    "# sSatter Plot\n",
    "\n",
    "south_hemi.plot(kind='scatter', x='Lat', y='Max Temp', c='Red')\n",
    "plt.title('City Latitude Vs Max Temperteature')\n",
    "plt.xlabel('Latitude')\n",
    "plt.ylabel('Max temperature (F)')\n",
    "plt.grid()\n",
    "\n",
    "\n",
    "\n",
    "#compute the Pearson correlation coefficient between Temp and Lat\n",
    "lat2 = south_hemi.iloc[:, 5]\n",
    "max_temp2 = south_hemi.iloc[:, 7]\n",
    "\n",
    "\n",
    "correlation = st.pearsonr(lat2, max_temp2)\n",
    "\n",
    "print(f\"The r-squared is {round(correlation[0],4)}\")\n",
    "\n",
    "\n",
    "# Create Linear Regression\n",
    "\n",
    "x_values = south_hemi['Lat']\n",
    "y_values = south_hemi['Max Temp']\n",
    "(slope, intercept, rvalue, pvalue, stderr) = linregress(x_values, y_values)\n",
    "regress_values = x_values * slope + intercept\n",
    "line_eq = \"y = \" + str(round(slope,2)) + \"x + \" + str(round(intercept,2))\n",
    "plt.scatter(x_values,y_values)\n",
    "plt.plot(x_values,regress_values,\"r-\")\n",
    "plt.annotate(line_eq,(-25,50),fontsize=15,color=\"red\")\n",
    "plt.xlabel('Latitude')\n",
    "plt.ylabel('Max temperature (F)')\n",
    "plt.title(\"City Latitude VS Max Temperature\")\n",
    "plt.show()\n",
    "\n",
    "plt.savefig('../output_data/Southern Latitude vs Max Temp')"
   ]
  },
  {
   "cell_type": "markdown",
   "metadata": {},
   "source": [
    "####  Northern Hemisphere - Humidity (%) vs. Latitude Linear Regression"
   ]
  },
  {
   "cell_type": "code",
   "execution_count": 26,
   "metadata": {},
   "outputs": [
    {
     "name": "stdout",
     "output_type": "stream",
     "text": [
      "The r-squared is 0.4512\n"
     ]
    },
    {
     "data": {
      "image/png": "[encoded data removed]",
      "text/plain": [
       "<Figure size 432x288 with 1 Axes>"
      ]
     },
     "metadata": {
      "needs_background": "light"
     },
     "output_type": "display_data"
    },
    {
     "data": {
      "text/plain": [
       "<Figure size 432x288 with 0 Axes>"
      ]
     },
     "metadata": {},
     "output_type": "display_data"
    }
   ],
   "source": [
    "# Scatter Plot\n",
    "\n",
    "north_hemi.plot(kind='scatter', x='Lat', y='Humidity', c='Red')\n",
    "plt.title('City Latitude Vs Humidity')\n",
    "plt.xlabel('Latitude')\n",
    "plt.ylabel('Humidity)')\n",
    "plt.grid()\n",
    "\n",
    "\n",
    "\n",
    "#compute the Pearson correlation coefficient between Temp and Lat\n",
    "lat3 = north_hemi.iloc[:, 5]\n",
    "humidity = north_hemi.iloc[:, 4]\n",
    "\n",
    "correlation = st.pearsonr(lat3, humidity)\n",
    "\n",
    "print(f\"The r-squared is {round(correlation[0],4)}\")\n",
    "\n",
    "\n",
    "# Create Linear Regression\n",
    "\n",
    "x_values = north_hemi['Lat']\n",
    "y_values = north_hemi['Humidity']\n",
    "(slope, intercept, rvalue, pvalue, stderr) = linregress(x_values, y_values)\n",
    "regress_values = x_values * slope + intercept\n",
    "line_eq = \"y = \" + str(round(slope,2)) + \"x + \" + str(round(intercept,2))\n",
    "plt.scatter(x_values,y_values)\n",
    "plt.plot(x_values,regress_values,\"r-\")\n",
    "plt.annotate(line_eq,(45,20),fontsize=15,color=\"red\")\n",
    "plt.xlabel('Latitude')\n",
    "plt.ylabel('Humidity')\n",
    "plt.title(\"City Latitude VS Humidity\")\n",
    "plt.show()\n",
    "\n",
    "plt.savefig('../output_data/Northern Latitude vs Humidity')"
   ]
  },
  {
   "cell_type": "markdown",
   "metadata": {},
   "source": [
    "####  Southern Hemisphere - Humidity (%) vs. Latitude Linear Regression"
   ]
  },
  {
   "cell_type": "code",
   "execution_count": 27,
   "metadata": {},
   "outputs": [
    {
     "name": "stdout",
     "output_type": "stream",
     "text": [
      "The r-squared is 0.2316\n"
     ]
    },
    {
     "data": {
      "image/png": "[encoded data removed]",
      "text/plain": [
       "<Figure size 432x288 with 1 Axes>"
      ]
     },
     "metadata": {
      "needs_background": "light"
     },
     "output_type": "display_data"
    },
    {
     "data": {
      "text/plain": [
       "<Figure size 432x288 with 0 Axes>"
      ]
     },
     "metadata": {},
     "output_type": "display_data"
    }
   ],
   "source": [
    "# Scatter Plot\n",
    "\n",
    "south_hemi.plot(kind='scatter', x='Lat', y='Humidity', c='Red')\n",
    "plt.title('City Latitude Vs Humidity')\n",
    "plt.xlabel('Latitude')\n",
    "plt.ylabel('Humidity)')\n",
    "plt.grid()\n",
    "\n",
    "\n",
    "\n",
    "#compute the Pearson correlation coefficient between Temp and Lat\n",
    "lat4 = south_hemi.iloc[:, 5]\n",
    "humidity2 = south_hemi.iloc[:, 4]\n",
    "\n",
    "correlation = st.pearsonr(lat4, humidity2)\n",
    "\n",
    "print(f\"The r-squared is {round(correlation[0],4)}\")\n",
    "\n",
    "\n",
    "# Create Linear Regression\n",
    "\n",
    "x_values = south_hemi['Lat']\n",
    "y_values = south_hemi['Humidity']\n",
    "(slope, intercept, rvalue, pvalue, stderr) = linregress(x_values, y_values)\n",
    "regress_values = x_values * slope + intercept\n",
    "line_eq = \"y = \" + str(round(slope,2)) + \"x + \" + str(round(intercept,2))\n",
    "plt.scatter(x_values,y_values)\n",
    "plt.plot(x_values,regress_values,\"r-\")\n",
    "plt.annotate(line_eq,(-22,20),fontsize=15,color=\"red\")\n",
    "plt.xlabel('Latitude')\n",
    "plt.ylabel('Humidity')\n",
    "plt.title(\"City Latitude VS Humidity\")\n",
    "plt.show()\n",
    "plt.savefig('../output_data/Southern Latitude vs Humidity')"
   ]
  },
  {
   "cell_type": "markdown",
   "metadata": {},
   "source": [
    "####  Northern Hemisphere - Cloudiness (%) vs. Latitude Linear Regression"
   ]
  },
  {
   "cell_type": "code",
   "execution_count": 28,
   "metadata": {},
   "outputs": [
    {
     "name": "stdout",
     "output_type": "stream",
     "text": [
      "The r-squared is 0.2602\n"
     ]
    },
    {
     "data": {
      "image/png": "[encoded data removed]",
      "text/plain": [
       "<Figure size 432x288 with 1 Axes>"
      ]
     },
     "metadata": {
      "needs_background": "light"
     },
     "output_type": "display_data"
    },
    {
     "data": {
      "text/plain": [
       "<Figure size 432x288 with 0 Axes>"
      ]
     },
     "metadata": {},
     "output_type": "display_data"
    }
   ],
   "source": [
    "# Scatter Plot\n",
    "\n",
    "north_hemi.plot(kind='scatter', x='Lat', y='Cloudiness', c='Red')\n",
    "plt.title('City Latitude Vs Cloudiness')\n",
    "plt.xlabel('Latitude')\n",
    "plt.ylabel('Cloudiness)')\n",
    "plt.grid()\n",
    "\n",
    "\n",
    "\n",
    "#compute the Pearson correlation coefficient between Temp and Lat\n",
    "lat5 = north_hemi.iloc[:, 5]\n",
    "cloudiness = north_hemi.iloc[:, 1]\n",
    "\n",
    "correlation = st.pearsonr(lat5, cloudiness)\n",
    "\n",
    "print(f\"The r-squared is {round(correlation[0],4)}\")\n",
    "\n",
    "\n",
    "# Create Linear Regression\n",
    "\n",
    "x_values = north_hemi['Lat']\n",
    "y_values = north_hemi['Cloudiness']\n",
    "(slope, intercept, rvalue, pvalue, stderr) = linregress(x_values, y_values)\n",
    "regress_values = x_values * slope + intercept\n",
    "line_eq = \"y = \" + str(round(slope,2)) + \"x + \" + str(round(intercept,2))\n",
    "plt.scatter(x_values,y_values)\n",
    "plt.plot(x_values,regress_values,\"r-\")\n",
    "plt.annotate(line_eq,(50,20),fontsize=15,color=\"red\")\n",
    "plt.xlabel('Latitude')\n",
    "plt.ylabel('Cloudiness')\n",
    "plt.title(\"City Latitude VS Cloudiness\")\n",
    "plt.show()\n",
    "plt.savefig('../output_data/Northern Latitude vs Cloudiness')"
   ]
  },
  {
   "cell_type": "markdown",
   "metadata": {},
   "source": [
    "####  Southern Hemisphere - Cloudiness (%) vs. Latitude Linear Regression"
   ]
  },
  {
   "cell_type": "code",
   "execution_count": 29,
   "metadata": {},
   "outputs": [
    {
     "name": "stdout",
     "output_type": "stream",
     "text": [
      "The r-squared is 0.2543\n"
     ]
    },
    {
     "data": {
      "image/png": "[encoded data removed]",
      "text/plain": [
       "<Figure size 432x288 with 1 Axes>"
      ]
     },
     "metadata": {
      "needs_background": "light"
     },
     "output_type": "display_data"
    },
    {
     "data": {
      "text/plain": [
       "<Figure size 432x288 with 0 Axes>"
      ]
     },
     "metadata": {},
     "output_type": "display_data"
    }
   ],
   "source": [
    "# Scatter Plot\n",
    "\n",
    "south_hemi.plot(kind='scatter', x='Lat', y='Cloudiness', c='Red')\n",
    "plt.title('City Latitude Vs Cloudiness')\n",
    "plt.xlabel('Latitude')\n",
    "plt.ylabel('Cloudiness)')\n",
    "plt.grid()\n",
    "\n",
    "\n",
    "\n",
    "#compute the Pearson correlation coefficient between Temp and Lat\n",
    "lat6 = south_hemi.iloc[:, 5]\n",
    "cloudiness2 = south_hemi.iloc[:, 1]\n",
    "\n",
    "correlation = st.pearsonr(lat6, cloudiness2)\n",
    "\n",
    "print(f\"The r-squared is {round(correlation[0],4)}\")\n",
    "\n",
    "\n",
    "# Create Linear Regression\n",
    "\n",
    "x_values = south_hemi['Lat']\n",
    "y_values = south_hemi['Cloudiness']\n",
    "(slope, intercept, rvalue, pvalue, stderr) = linregress(x_values, y_values)\n",
    "regress_values = x_values * slope + intercept\n",
    "line_eq = \"y = \" + str(round(slope,2)) + \"x + \" + str(round(intercept,2))\n",
    "plt.scatter(x_values,y_values)\n",
    "plt.plot(x_values,regress_values,\"r-\")\n",
    "plt.annotate(line_eq,(-22,20),fontsize=15,color=\"red\")\n",
    "plt.xlabel('Latitude')\n",
    "plt.ylabel('Cloudiness')\n",
    "plt.title(\"City Latitude VS Cloudiness\")\n",
    "plt.show()\n",
    "plt.savefig('../output_data/Southern Latitude vs Cloudiness')"
   ]
  },
  {
   "cell_type": "markdown",
   "metadata": {},
   "source": [
    "####  Northern Hemisphere - Wind Speed (mph) vs. Latitude Linear Regression"
   ]
  },
  {
   "cell_type": "code",
   "execution_count": 33,
   "metadata": {},
   "outputs": [
    {
     "name": "stdout",
     "output_type": "stream",
     "text": [
      "The r-squared is 0.168\n"
     ]
    },
    {
     "data": {
      "image/png": "[encoded data removed]",
      "text/plain": [
       "<Figure size 432x288 with 1 Axes>"
      ]
     },
     "metadata": {
      "needs_background": "light"
     },
     "output_type": "display_data"
    }
   ],
   "source": [
    "# Scatter Plot\n",
    "\n",
    "north_hemi.plot(kind='scatter', x='Lat', y='Wind Speed', c='Red')\n",
    "plt.title('City Latitude Vs Cloudiness')\n",
    "plt.xlabel('Latitude')\n",
    "plt.ylabel('Windspeed)')\n",
    "plt.grid()\n",
    "\n",
    "\n",
    "\n",
    "#compute the Pearson correlation coefficient between Temp and Lat\n",
    "lat7 = north_hemi.iloc[:, 5]\n",
    "windspeed = north_hemi.iloc[:, 8]\n",
    "\n",
    "correlation = st.pearsonr(lat7, windspeed)\n",
    "\n",
    "print(f\"The r-squared is {round(correlation[0],4)}\")\n",
    "\n",
    "\n",
    "# Create Linear Regression\n",
    "\n",
    "x_values = north_hemi['Lat']\n",
    "y_values = north_hemi['Wind Speed']\n",
    "(slope, intercept, rvalue, pvalue, stderr) = linregress(x_values, y_values)\n",
    "regress_values = x_values * slope + intercept\n",
    "line_eq = \"y = \" + str(round(slope,2)) + \"x + \" + str(round(intercept,2))\n",
    "plt.scatter(x_values,y_values)\n",
    "plt.plot(x_values,regress_values,\"r-\")\n",
    "plt.annotate(line_eq,(35,20),fontsize=15,color=\"red\")\n",
    "plt.xlabel('Latitude')\n",
    "plt.ylabel('Wind Speed')\n",
    "plt.title(\"City Latitude VS Wind Speed\")\n",
    "plt.show()\n",
    "plt.savefig('../output_data/Northern Latitude vs Wind Speed')"
   ]
  },
  {
   "cell_type": "markdown",
   "metadata": {},
   "source": [
    "####  Southern Hemisphere - Wind Speed (mph) vs. Latitude Linear Regression"
   ]
  },
  {
   "cell_type": "code",
   "execution_count": 31,
   "metadata": {},
   "outputs": [
    {
     "name": "stdout",
     "output_type": "stream",
     "text": [
      "The r-squared is -0.3545\n"
     ]
    },
    {
     "data": {
      "image/png": "[encoded data removed]",
      "text/plain": [
       "<Figure size 432x288 with 1 Axes>"
      ]
     },
     "metadata": {
      "needs_background": "light"
     },
     "output_type": "display_data"
    },
    {
     "data": {
      "text/plain": [
       "<Figure size 432x288 with 0 Axes>"
      ]
     },
     "metadata": {},
     "output_type": "display_data"
    }
   ],
   "source": [
    "# Scatter Plot\n",
    "\n",
    "south_hemi.plot(kind='scatter', x='Lat', y='Wind Speed', c='Red')\n",
    "plt.title('City Latitude Vs Cloudiness')\n",
    "plt.xlabel('Latitude')\n",
    "plt.ylabel('Windspeed)')\n",
    "plt.grid()\n",
    "\n",
    "\n",
    "\n",
    "#compute the Pearson correlation coefficient between Temp and Lat\n",
    "lat8 = south_hemi.iloc[:, 5]\n",
    "windspeed2 = south_hemi.iloc[:, 8]\n",
    "\n",
    "correlation = st.pearsonr(lat8, windspeed2)\n",
    "\n",
    "print(f\"The r-squared is {round(correlation[0],4)}\")\n",
    "\n",
    "\n",
    "# Create Linear Regression\n",
    "\n",
    "x_values = south_hemi['Lat']\n",
    "y_values = south_hemi['Wind Speed']\n",
    "(slope, intercept, rvalue, pvalue, stderr) = linregress(x_values, y_values)\n",
    "regress_values = x_values * slope + intercept\n",
    "line_eq = \"y = \" + str(round(slope,2)) + \"x + \" + str(round(intercept,2))\n",
    "plt.scatter(x_values,y_values)\n",
    "plt.plot(x_values,regress_values,\"r-\")\n",
    "plt.annotate(line_eq,(-23,30),fontsize=15,color=\"red\")\n",
    "plt.xlabel('Latitude')\n",
    "plt.ylabel('Wind Speed')\n",
    "plt.title(\"City Latitude VS Wind Speed\")\n",
    "plt.show()\n",
    "plt.savefig('../output_data/Southern Latitude vs Wind Speed')"
   ]
  },
  {
   "cell_type": "code",
   "execution_count": null,
   "metadata": {},
   "outputs": [],
   "source": []
  }
 ],
 "metadata": {
  "anaconda-cloud": {},
  "kernel_info": {
   "name": "python3"
  },
  "kernelspec": {
   "display_name": "Python 3",
   "language": "python",
   "name": "python3"
  },
  "language_info": {
   "codemirror_mode": {
    "name": "ipython",
    "version": 3
   },
   "file_extension": ".py",
   "mimetype": "text/x-python",
   "name": "python",
   "nbconvert_exporter": "python",
   "pygments_lexer": "ipython3",
   "version": "3.6.9"
  },
  "latex_envs": {
   "LaTeX_envs_menu_present": true,
   "autoclose": false,
   "autocomplete": true,
   "bibliofile": "biblio.bib",
   "cite_by": "apalike",
   "current_citInitial": 1,
   "eqLabelWithNumbers": true,
   "eqNumInitial": 1,
   "hotkeys": {
    "equation": "Ctrl-E",
    "itemize": "Ctrl-I"
   },
   "labels_anchors": false,
   "latex_user_defs": false,
   "report_style_numbering": false,
   "user_envs_cfg": false
  },
  "nteract": {
   "version": "0.12.3"
  }
 },
 "nbformat": 4,
 "nbformat_minor": 2
}
